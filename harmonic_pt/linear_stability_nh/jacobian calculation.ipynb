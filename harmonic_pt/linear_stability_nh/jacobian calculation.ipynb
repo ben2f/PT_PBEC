{
 "cells": [
  {
   "cell_type": "code",
   "execution_count": 1,
   "id": "061165ae-bd9c-4d34-b069-0ea9745fa3d1",
   "metadata": {},
   "outputs": [
    {
     "data": {
      "text/html": [
       "<style>\n",
       "\t\t\t\t\t\t\t\t\t\t\t\t\t.grid-container {\n",
       "\t\t\t\t\t\t\t\t\t\t\t\t\t\tdisplay: inline-grid;\n",
       "\t\t\t\t\t\t\t\t\t\t\t\t\t\tgrid-template-columns: auto;\n",
       "\t\t\t\t\t\t\t\t\t\t\t\t\t}\n",
       "\t\t\t\t\t\t\t\t\t\t\t\t</style>\n",
       "\n",
       "\t\t\t\t\t\t\t\t\t\t\t\t<div><div class=\"grid-container\"><div class=\"grid-item\"><img alt=\"Output\" src=\"data:image/png;base64,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\"></div><div class=\"grid-item\"><img alt=\"Output\" src=\"data:image/png;base64,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\"></div><div class=\"grid-item\"><img alt=\"Output\" src=\"data:image/png;base64,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\"></div></div></div>"
      ],
      "text/plain": [
       "                            2\n",
       "                      5 G1 u\n",
       "-2 b u + 2 gamma u - ---------\n",
       "                     2 Sqrt[2]\n",
       "        G1 u v\n",
       "4 b v + -------\n",
       "        Sqrt[2]\n",
       "    2    1         G u\n",
       "-2 b  + ---- + ----------- - v0\n",
       "           2   2 Sqrt[2] v\n",
       "        2 v"
      ]
     },
     "execution_count": 1,
     "metadata": {
      "text/html": [],
      "text/plain": []
     },
     "output_type": "execute_result"
    }
   ],
   "source": [
    "us=2*gamma*u-5*G1*u^2/(2*Sqrt[2])-2*u*b\n",
    "vs=G1*u*v/Sqrt[2]+4*b*v\n",
    "bs=-v0-2*b^2+1/(2*v^2)+G*u/(2*Sqrt[2]*v)"
   ]
  },
  {
   "cell_type": "code",
   "execution_count": 4,
   "id": "c72b3c6e-5771-4d73-a515-32fd83423efe",
   "metadata": {},
   "outputs": [
    {
     "data": {
      "text/html": [
       "<style>\n",
       "\t\t\t\t\t\t\t\t\t\t\t\t\t.grid-container {\n",
       "\t\t\t\t\t\t\t\t\t\t\t\t\t\tdisplay: inline-grid;\n",
       "\t\t\t\t\t\t\t\t\t\t\t\t\t\tgrid-template-columns: auto;\n",
       "\t\t\t\t\t\t\t\t\t\t\t\t\t}\n",
       "\t\t\t\t\t\t\t\t\t\t\t\t</style>\n",
       "\n",
       "\t\t\t\t\t\t\t\t\t\t\t\t<div><div class=\"grid-container\"><div class=\"grid-item\"><pre style=\"&#102;&#111;&#110;&#116;&#45;&#102;&#97;&#109;&#105;&#108;&#121;&#58;&#32;&#34;&#67;&#111;&#117;&#114;&#105;&#101;&#114;&#32;&#78;&#101;&#119;&#34;&#44;&#67;&#111;&#117;&#114;&#105;&#101;&#114;&#44;&#109;&#111;&#110;&#111;&#115;&#112;&#97;&#99;&#101;&#59;\">&#45;&#50;&#42;&#98;&#32;&#43;&#32;&#50;&#42;&#103;&#97;&#109;&#109;&#97;&#32;&#45;&#32;&#40;&#53;&#42;&#71;&#49;&#42;&#117;&#41;&#47;&#83;&#113;&#114;&#116;&#91;&#50;&#93;</pre></div><div class=\"grid-item\"><pre style=\"&#102;&#111;&#110;&#116;&#45;&#102;&#97;&#109;&#105;&#108;&#121;&#58;&#32;&#34;&#67;&#111;&#117;&#114;&#105;&#101;&#114;&#32;&#78;&#101;&#119;&#34;&#44;&#67;&#111;&#117;&#114;&#105;&#101;&#114;&#44;&#109;&#111;&#110;&#111;&#115;&#112;&#97;&#99;&#101;&#59;\">&#48;</pre></div><div class=\"grid-item\"><pre style=\"&#102;&#111;&#110;&#116;&#45;&#102;&#97;&#109;&#105;&#108;&#121;&#58;&#32;&#34;&#67;&#111;&#117;&#114;&#105;&#101;&#114;&#32;&#78;&#101;&#119;&#34;&#44;&#67;&#111;&#117;&#114;&#105;&#101;&#114;&#44;&#109;&#111;&#110;&#111;&#115;&#112;&#97;&#99;&#101;&#59;\">&#45;&#50;&#42;&#117;</pre></div></div></div>"
      ],
      "text/plain": [
       "-2*b + 2*gamma - (5*G1*u)/Sqrt[2]\n",
       "0\n",
       "-2*u"
      ]
     },
     "execution_count": 4,
     "metadata": {
      "text/html": [],
      "text/plain": []
     },
     "output_type": "execute_result"
    }
   ],
   "source": [
    "InputForm[D[us, u]]\n",
    "InputForm[D[us, v]]\n",
    "InputForm[D[us, b]]"
   ]
  },
  {
   "cell_type": "code",
   "execution_count": 7,
   "id": "1e235819-e79b-4eed-b3ef-64e2fe809597",
   "metadata": {},
   "outputs": [
    {
     "data": {
      "text/html": [
       "<style>\n",
       "\t\t\t\t\t\t\t\t\t\t\t\t\t.grid-container {\n",
       "\t\t\t\t\t\t\t\t\t\t\t\t\t\tdisplay: inline-grid;\n",
       "\t\t\t\t\t\t\t\t\t\t\t\t\t\tgrid-template-columns: auto;\n",
       "\t\t\t\t\t\t\t\t\t\t\t\t\t}\n",
       "\t\t\t\t\t\t\t\t\t\t\t\t</style>\n",
       "\n",
       "\t\t\t\t\t\t\t\t\t\t\t\t<div><div class=\"grid-container\"><div class=\"grid-item\"><pre style=\"&#102;&#111;&#110;&#116;&#45;&#102;&#97;&#109;&#105;&#108;&#121;&#58;&#32;&#34;&#67;&#111;&#117;&#114;&#105;&#101;&#114;&#32;&#78;&#101;&#119;&#34;&#44;&#67;&#111;&#117;&#114;&#105;&#101;&#114;&#44;&#109;&#111;&#110;&#111;&#115;&#112;&#97;&#99;&#101;&#59;\">&#40;&#71;&#49;&#42;&#118;&#41;&#47;&#83;&#113;&#114;&#116;&#91;&#50;&#93;</pre></div><div class=\"grid-item\"><pre style=\"&#102;&#111;&#110;&#116;&#45;&#102;&#97;&#109;&#105;&#108;&#121;&#58;&#32;&#34;&#67;&#111;&#117;&#114;&#105;&#101;&#114;&#32;&#78;&#101;&#119;&#34;&#44;&#67;&#111;&#117;&#114;&#105;&#101;&#114;&#44;&#109;&#111;&#110;&#111;&#115;&#112;&#97;&#99;&#101;&#59;\">&#52;&#42;&#98;&#32;&#43;&#32;&#40;&#71;&#49;&#42;&#117;&#41;&#47;&#83;&#113;&#114;&#116;&#91;&#50;&#93;</pre></div><div class=\"grid-item\"><pre style=\"&#102;&#111;&#110;&#116;&#45;&#102;&#97;&#109;&#105;&#108;&#121;&#58;&#32;&#34;&#67;&#111;&#117;&#114;&#105;&#101;&#114;&#32;&#78;&#101;&#119;&#34;&#44;&#67;&#111;&#117;&#114;&#105;&#101;&#114;&#44;&#109;&#111;&#110;&#111;&#115;&#112;&#97;&#99;&#101;&#59;\">&#52;&#42;&#118;</pre></div></div></div>"
      ],
      "text/plain": [
       "(G1*v)/Sqrt[2]\n",
       "4*b + (G1*u)/Sqrt[2]\n",
       "4*v"
      ]
     },
     "execution_count": 7,
     "metadata": {
      "text/html": [],
      "text/plain": []
     },
     "output_type": "execute_result"
    }
   ],
   "source": [
    "InputForm[D[vs, u]]\n",
    "InputForm[D[vs, v]]\n",
    "InputForm[D[vs, b]]"
   ]
  },
  {
   "cell_type": "code",
   "execution_count": 10,
   "id": "68f21086-841f-4041-9f54-f551208ba0c1",
   "metadata": {},
   "outputs": [
    {
     "data": {
      "text/html": [
       "<style>\n",
       "\t\t\t\t\t\t\t\t\t\t\t\t\t.grid-container {\n",
       "\t\t\t\t\t\t\t\t\t\t\t\t\t\tdisplay: inline-grid;\n",
       "\t\t\t\t\t\t\t\t\t\t\t\t\t\tgrid-template-columns: auto;\n",
       "\t\t\t\t\t\t\t\t\t\t\t\t\t}\n",
       "\t\t\t\t\t\t\t\t\t\t\t\t</style>\n",
       "\n",
       "\t\t\t\t\t\t\t\t\t\t\t\t<div><div class=\"grid-container\"><div class=\"grid-item\"><pre style=\"&#102;&#111;&#110;&#116;&#45;&#102;&#97;&#109;&#105;&#108;&#121;&#58;&#32;&#34;&#67;&#111;&#117;&#114;&#105;&#101;&#114;&#32;&#78;&#101;&#119;&#34;&#44;&#67;&#111;&#117;&#114;&#105;&#101;&#114;&#44;&#109;&#111;&#110;&#111;&#115;&#112;&#97;&#99;&#101;&#59;\">&#71;&#47;&#40;&#50;&#42;&#83;&#113;&#114;&#116;&#91;&#50;&#93;&#42;&#118;&#41;</pre></div><div class=\"grid-item\"><pre style=\"&#102;&#111;&#110;&#116;&#45;&#102;&#97;&#109;&#105;&#108;&#121;&#58;&#32;&#34;&#67;&#111;&#117;&#114;&#105;&#101;&#114;&#32;&#78;&#101;&#119;&#34;&#44;&#67;&#111;&#117;&#114;&#105;&#101;&#114;&#44;&#109;&#111;&#110;&#111;&#115;&#112;&#97;&#99;&#101;&#59;\">&#45;&#118;&#94;&#40;&#45;&#51;&#41;&#32;&#45;&#32;&#40;&#71;&#42;&#117;&#41;&#47;&#40;&#50;&#42;&#83;&#113;&#114;&#116;&#91;&#50;&#93;&#42;&#118;&#94;&#50;&#41;</pre></div><div class=\"grid-item\"><pre style=\"&#102;&#111;&#110;&#116;&#45;&#102;&#97;&#109;&#105;&#108;&#121;&#58;&#32;&#34;&#67;&#111;&#117;&#114;&#105;&#101;&#114;&#32;&#78;&#101;&#119;&#34;&#44;&#67;&#111;&#117;&#114;&#105;&#101;&#114;&#44;&#109;&#111;&#110;&#111;&#115;&#112;&#97;&#99;&#101;&#59;\">&#45;&#52;&#42;&#98;</pre></div></div></div>"
      ],
      "text/plain": [
       "G/(2*Sqrt[2]*v)\n",
       "-v^(-3) - (G*u)/(2*Sqrt[2]*v^2)\n",
       "-4*b"
      ]
     },
     "execution_count": 10,
     "metadata": {
      "text/html": [],
      "text/plain": []
     },
     "output_type": "execute_result"
    }
   ],
   "source": [
    "InputForm[D[bs, u]]\n",
    "InputForm[D[bs, v]]\n",
    "InputForm[D[bs, b]]"
   ]
  },
  {
   "cell_type": "code",
   "execution_count": null,
   "id": "6e7c491f-27d8-4ee8-9370-7d4d0cfcf8a6",
   "metadata": {},
   "outputs": [],
   "source": []
  },
  {
   "cell_type": "code",
   "execution_count": null,
   "id": "b19f9e1c-8ed2-48c3-9c78-41473db2923f",
   "metadata": {},
   "outputs": [],
   "source": []
  }
 ],
 "metadata": {
  "kernelspec": {
   "display_name": "Wolfram Language 12.3",
   "language": "Wolfram Language",
   "name": "wolframlanguage12.3"
  },
  "language_info": {
   "codemirror_mode": "mathematica",
   "file_extension": ".m",
   "mimetype": "application/vnd.wolfram.m",
   "name": "Wolfram Language",
   "pygments_lexer": "mathematica",
   "version": "12.0"
  }
 },
 "nbformat": 4,
 "nbformat_minor": 5
}
