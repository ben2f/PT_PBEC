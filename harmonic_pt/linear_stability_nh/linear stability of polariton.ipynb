{
 "cells": [
  {
   "cell_type": "code",
   "execution_count": 11,
   "id": "a64856b7-3bd2-48fb-9f42-5f457ff24dfd",
   "metadata": {},
   "outputs": [],
   "source": [
    "from numpy import *\n",
    "from matplotlib import *\n",
    "from pylab import *\n",
    "import pandas as pd\n",
    "from matplotlib.colors import ListedColormap"
   ]
  },
  {
   "cell_type": "code",
   "execution_count": 12,
   "id": "092a17ca-62ec-4ba6-9810-1b5d1f614374",
   "metadata": {},
   "outputs": [],
   "source": [
    "def XS(G1,gamma):\n",
    "    x=sqrt(2.0)*(gamma/G1)\n",
    "    return x"
   ]
  },
  {
   "cell_type": "code",
   "execution_count": 13,
   "id": "1677c35f-723d-48af-a80c-b61bcd9e95d9",
   "metadata": {},
   "outputs": [],
   "source": [
    "def BS(G1,gamma):\n",
    "    b=-gamma/4.0\n",
    "    return b"
   ]
  },
  {
   "cell_type": "code",
   "execution_count": 14,
   "id": "383ec00c-449e-448d-8b0b-3b86beb85a93",
   "metadata": {},
   "outputs": [],
   "source": [
    "def YS(G1,gamma):\n",
    "    v0=0.5\n",
    "    G=-10.0\n",
    "    c=(G*gamma)**2 + (gamma*G1)**2 + 8*(G1**2)*v0\n",
    "    d=(gamma**2)*G1 + 8*G1*v0\n",
    "    y=(2*gamma*G + 2*sqrt(c))/d\n",
    "    return y"
   ]
  },
  {
   "cell_type": "code",
   "execution_count": 15,
   "id": "c898790b-6f2e-4065-9caa-46c21f27e2db",
   "metadata": {},
   "outputs": [],
   "source": [
    "\n",
    "def jacobian(G1,gamma):\n",
    "    G=-10.0\n",
    "    v0=0.5\n",
    "    \n",
    "    x=XS(G1,gamma)\n",
    "    b=BS(G1,gamma)\n",
    "    y=YS(G1,gamma)\n",
    "\n",
    "    J11=2*(gamma - b)-(5*G1*x)/sqrt(2)\n",
    "    J12=0\n",
    "    J13=-2*x\n",
    "    \n",
    "    J21=G1*y/sqrt(2)\n",
    "    J22=4*b+G1*x/sqrt(2)\n",
    "    J23=4*y\n",
    "\n",
    "    J31=G/(y*2*sqrt(2))\n",
    "    J32=-1/(y**3)-(G*x)/((y**2)*2*sqrt(2))\n",
    "    J33=-4*b\n",
    "    \n",
    "    J = array([\n",
    "        [J11,J12,J13], \n",
    "        [J21,J22,J23],  \n",
    "        [J31,J32,J33]  \n",
    "        ])\n",
    "    return J"
   ]
  },
  {
   "cell_type": "code",
   "execution_count": 16,
   "id": "bee8e846-48fc-4a1a-8b1b-3bf19c0f8c58",
   "metadata": {},
   "outputs": [],
   "source": [
    " def is_stable(G1, gamma):\n",
    "    J = jacobian(G1, gamma)\n",
    "    eigenvalues = linalg.eigvals(J)\n",
    "    return all(real(eigenvalues) < 0)"
   ]
  },
  {
   "cell_type": "code",
   "execution_count": 17,
   "id": "e11f2543-4cdf-492f-8f38-180a7dc8e36f",
   "metadata": {},
   "outputs": [
    {
     "name": "stdout",
     "output_type": "stream",
     "text": [
      "False\n"
     ]
    }
   ],
   "source": [
    "print(is_stable(0.1,0.0001))"
   ]
  },
  {
   "cell_type": "code",
   "execution_count": 18,
   "id": "6bc4be53-432d-4c32-9190-e47433575b54",
   "metadata": {},
   "outputs": [],
   "source": [
    "gamma_vals = logspace(-5, 0, 100)\n",
    "g1_vals = logspace(-5, 0, 100)\n",
    "stability_grid = zeros((len(g1_vals), len(gamma_vals)))\n",
    "ei=len(g1_vals)"
   ]
  },
  {
   "cell_type": "code",
   "execution_count": 19,
   "id": "4b54e875-ccb7-45f4-b868-94492d6a79ee",
   "metadata": {},
   "outputs": [],
   "source": [
    "#f = open('stabilitydata.txt', 'w')\n",
    "for i in range(0,ei):\n",
    "    for j in range(0,ei):\n",
    "        #print(g1_vals[i],gamma_vals[j])\n",
    "        stability_grid[i,j]=is_stable(g1_vals[i],gamma_vals[j])\n",
    "        \n",
    "        #f.write(f\"{g1_vals[i]} {gamma_vals[j]} {stability_grid[i, j]}\\n\")\n",
    "\n",
    "#f.close() "
   ]
  },
  {
   "cell_type": "code",
   "execution_count": 20,
   "id": "42065469-1ad2-42b1-80a8-8d6bfb312e9c",
   "metadata": {},
   "outputs": [
    {
     "data": {
      "image/png": "[encoded data removed]",
      "text/plain": [
       "<Figure size 640x480 with 2 Axes>"
      ]
     },
     "metadata": {},
     "output_type": "display_data"
    }
   ],
   "source": [
    "#figure(figsize=(6, 6))\n",
    "X, Y = meshgrid(gamma_vals, g1_vals)\n",
    "custom_cmap = ListedColormap(['lightgray', (0.0, 1.0, 1.0)])\n",
    "pcolormesh(X, Y, stability_grid, cmap=custom_cmap,shading='auto')\n",
    "\n",
    "colorbar(ticks=[0, 1], label='Stability (0 = Unstable, 1 = Stable)')\n",
    "xlabel('$\\\\gamma_{eff}$')\n",
    "ylabel('$g_{1} $')\n",
    "title(' Stability Grid : $g_{0}=5 $,$v_0=5*10^{−5}$ ')\n",
    "\n",
    "xscale('log')\n",
    "yscale('log')\n",
    "savefig(\"sbrT.png\",bbox_inches='tight')\n",
    "show()\n"
   ]
  },
  {
   "cell_type": "code",
   "execution_count": null,
   "id": "52448a5c-db36-49bb-aea3-dced3597ead3",
   "metadata": {},
   "outputs": [],
   "source": []
  },
  {
   "cell_type": "code",
   "execution_count": null,
   "id": "f1ddfc4a-88c0-4392-b6ec-3e715289fdf6",
   "metadata": {},
   "outputs": [],
   "source": []
  }
 ],
 "metadata": {
  "kernelspec": {
   "display_name": "Python 3 (ipykernel)",
   "language": "python",
   "name": "python3"
  },
  "language_info": {
   "codemirror_mode": {
    "name": "ipython",
    "version": 3
   },
   "file_extension": ".py",
   "mimetype": "text/x-python",
   "name": "python",
   "nbconvert_exporter": "python",
   "pygments_lexer": "ipython3",
   "version": "3.12.4"
  }
 },
 "nbformat": 4,
 "nbformat_minor": 5
}
