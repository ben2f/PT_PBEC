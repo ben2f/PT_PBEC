{
 "cells": [
  {
   "cell_type": "code",
   "execution_count": 1,
   "id": "35d1db1a-c7b6-4fad-b88d-b1c067b640d9",
   "metadata": {},
   "outputs": [],
   "source": [
    "from numpy import *\n",
    "from matplotlib import *\n",
    "from pylab import *\n",
    "import pandas as pd\n",
    "from matplotlib.colors import ListedColormap\n",
    "import sympy as sp"
   ]
  },
  {
   "cell_type": "code",
   "execution_count": 2,
   "id": "0d04eefa-5638-4213-b22a-b89d652e28e7",
   "metadata": {},
   "outputs": [],
   "source": [
    "def XS(v0,g,g1,gamma):\n",
    "    x=sqrt(2.0)*(gamma/g1)\n",
    "    return x\n",
    "\n",
    "def BS(v0,g,g1,gamma):\n",
    "    b=-gamma/4.0\n",
    "    return b"
   ]
  },
  {
   "cell_type": "code",
   "execution_count": 3,
   "id": "dce69aee-098d-420e-b8a1-11fcb45c58ef",
   "metadata": {},
   "outputs": [],
   "source": [
    "def jacobian(x,y,b,v0,g,g1,gamma):\n",
    "    \n",
    "    J11=2*(gamma-b)-(5*g1*x)/sqrt(2)\n",
    "    J12=0\n",
    "    J13=-2*x\n",
    "    \n",
    "    J21=g1*y/sqrt(2)\n",
    "    J22=4*b+g1*x/sqrt(2)\n",
    "    J23=4*y\n",
    "\n",
    "    J31=g/(y*2*sqrt(2))\n",
    "    J32=-1/(y*y*y)-(g*x)/(2*sqrt(2)*y*y)-(y*v0*v0)*(45/2.0)\n",
    "    #J32=-1/(y*y*y)-(g*x)/(2*sqrt(2)*y*y)\n",
    "    J33=-4*b\n",
    "    \n",
    "    J = array([\n",
    "        [J11,J12,J13], \n",
    "        [J21,J22,J23],  \n",
    "        [J31,J32,J33]  \n",
    "            ])\n",
    "    return J"
   ]
  },
  {
   "cell_type": "code",
   "execution_count": 4,
   "id": "f41072a1-0698-4886-b864-e15b03b62d53",
   "metadata": {},
   "outputs": [],
   "source": [
    " def is_stable(x,y,b,v0,g,g1, gamma):\n",
    "    J = jacobian(x,y,b,v0,g,g1, gamma)\n",
    "    eigenvalues = linalg.eigvals(J)\n",
    "    return all(real(eigenvalues) < 0)\n",
    "     \n",
    "    #return eigenvalues"
   ]
  },
  {
   "cell_type": "code",
   "execution_count": 5,
   "id": "7c4bbcf4-d882-4d21-a5b1-e22e9575532f",
   "metadata": {},
   "outputs": [],
   "source": [
    "gamma_vals = logspace(-5, 0, 100)\n",
    "g1_vals = logspace(-5, 0, 100)\n",
    "ei=len(g1_vals)"
   ]
  },
  {
   "cell_type": "code",
   "execution_count": 6,
   "id": "40ecd6ff-af0c-4fbf-81e3-9e3810f859eb",
   "metadata": {},
   "outputs": [],
   "source": [
    "g=5.0\n",
    "v0=0.01"
   ]
  },
  {
   "cell_type": "code",
   "execution_count": 7,
   "id": "e68d11eb-4ac9-42df-b7f5-e3c8dbe0439a",
   "metadata": {},
   "outputs": [],
   "source": [
    "f = open('fixed_points.txt', 'w')\n",
    "for i in range(0,ei):\n",
    "    for j in range(0,ei):\n",
    "        \n",
    "        t = sp.symbols('t')\n",
    "        polynomial = t**4-(24*t*t)/(90*v0)+(gamma_vals[j]*gamma_vals[j]*t*t)/(90*v0*v0)-(4*gamma_vals[j]*g*t)/(90*v0*v0*g1_vals[i])-4/(90*v0*v0)\n",
    "        all_roots = sp.solve(polynomial, t)\n",
    "        real_roots = [rts.evalf() for rts in all_roots if rts.is_real]\n",
    "        positive_real_roots = [rts for rts in real_roots if rts > 0]\n",
    "\n",
    "        x=XS(v0,g,g1_vals[i],gamma_vals[j])\n",
    "        b=BS(v0,g,g1_vals[i],gamma_vals[j])\n",
    "        \n",
    "        if positive_real_roots:\n",
    "            y = positive_real_roots[0]\n",
    "            if y > 0:\n",
    "                f.write(f\"{g1_vals[i]} {gamma_vals[j]} {x} {y} {b}\\n\")\n",
    "f.close() "
   ]
  },
  {
   "cell_type": "code",
   "execution_count": 14,
   "id": "7a49922d-f6ef-43ed-a7e2-731c8e713b6b",
   "metadata": {},
   "outputs": [
    {
     "data": {
      "text/html": [
       "<div>\n",
       "<style scoped>\n",
       "    .dataframe tbody tr th:only-of-type {\n",
       "        vertical-align: middle;\n",
       "    }\n",
       "\n",
       "    .dataframe tbody tr th {\n",
       "        vertical-align: top;\n",
       "    }\n",
       "\n",
       "    .dataframe thead th {\n",
       "        text-align: right;\n",
       "    }\n",
       "</style>\n",
       "<table border=\"1\" class=\"dataframe\">\n",
       "  <thead>\n",
       "    <tr style=\"text-align: right;\">\n",
       "      <th></th>\n",
       "      <th>0</th>\n",
       "      <th>1</th>\n",
       "      <th>2</th>\n",
       "      <th>3</th>\n",
       "      <th>4</th>\n",
       "    </tr>\n",
       "  </thead>\n",
       "  <tbody>\n",
       "    <tr>\n",
       "      <th>0</th>\n",
       "      <td>0.00001</td>\n",
       "      <td>0.000010</td>\n",
       "      <td>1.414214</td>\n",
       "      <td>13.789674</td>\n",
       "      <td>-0.000003</td>\n",
       "    </tr>\n",
       "    <tr>\n",
       "      <th>1</th>\n",
       "      <td>0.00001</td>\n",
       "      <td>0.000011</td>\n",
       "      <td>1.588620</td>\n",
       "      <td>14.273602</td>\n",
       "      <td>-0.000003</td>\n",
       "    </tr>\n",
       "    <tr>\n",
       "      <th>2</th>\n",
       "      <td>0.00001</td>\n",
       "      <td>0.000013</td>\n",
       "      <td>1.784535</td>\n",
       "      <td>14.779466</td>\n",
       "      <td>-0.000003</td>\n",
       "    </tr>\n",
       "    <tr>\n",
       "      <th>3</th>\n",
       "      <td>0.00001</td>\n",
       "      <td>0.000014</td>\n",
       "      <td>2.004611</td>\n",
       "      <td>15.307987</td>\n",
       "      <td>-0.000004</td>\n",
       "    </tr>\n",
       "    <tr>\n",
       "      <th>4</th>\n",
       "      <td>0.00001</td>\n",
       "      <td>0.000016</td>\n",
       "      <td>2.251828</td>\n",
       "      <td>15.859924</td>\n",
       "      <td>-0.000004</td>\n",
       "    </tr>\n",
       "  </tbody>\n",
       "</table>\n",
       "</div>"
      ],
      "text/plain": [
       "         0         1         2          3         4\n",
       "0  0.00001  0.000010  1.414214  13.789674 -0.000003\n",
       "1  0.00001  0.000011  1.588620  14.273602 -0.000003\n",
       "2  0.00001  0.000013  1.784535  14.779466 -0.000003\n",
       "3  0.00001  0.000014  2.004611  15.307987 -0.000004\n",
       "4  0.00001  0.000016  2.251828  15.859924 -0.000004"
      ]
     },
     "execution_count": 14,
     "metadata": {},
     "output_type": "execute_result"
    }
   ],
   "source": [
    "df1 = pd.read_csv(\"fixed_points.txt\" , sep='\\\\s+', header=None)\n",
    "#df1 = pd.read_csv(\"results.csv\" , sep='\\\\s+', header=None)\n",
    "df1.head()"
   ]
  },
  {
   "cell_type": "code",
   "execution_count": 15,
   "id": "552cf885-dd00-46fc-b62d-905c75e2b1c2",
   "metadata": {},
   "outputs": [],
   "source": [
    "g1p=df1[0].to_numpy()\n",
    "gammap=df1[1].to_numpy()\n",
    "xp=df1[2].to_numpy()\n",
    "yp=df1[3].to_numpy()\n",
    "bp=df1[4].to_numpy()"
   ]
  },
  {
   "cell_type": "code",
   "execution_count": 16,
   "id": "a94cad9d-83b3-4b3c-a367-34fe15201926",
   "metadata": {},
   "outputs": [],
   "source": [
    "e=len(g1p)"
   ]
  },
  {
   "cell_type": "code",
   "execution_count": 17,
   "id": "c3942711-6d09-4b5c-b925-db44ea25e639",
   "metadata": {},
   "outputs": [],
   "source": [
    "f2 = open('grid.txt', 'w')\n",
    "for i in range(0,e):\n",
    "    s=is_stable(xp[i],yp[i],bp[i],v0,g,g1p[i],gammap[i])\n",
    "    \n",
    "    #f2.write(f\"{s} \\n\")\n",
    "    f2.write(f\"{g1p[i]}  {gammap[i]}   {s} \\n\")\n",
    "f2.close() "
   ]
  },
  {
   "cell_type": "code",
   "execution_count": null,
   "id": "0f466ebb-09ee-4cb3-8011-e8c369e884c1",
   "metadata": {},
   "outputs": [],
   "source": []
  },
  {
   "cell_type": "code",
   "execution_count": 18,
   "id": "25507c0a-e80f-4af6-82ab-2306811fd7d4",
   "metadata": {},
   "outputs": [
    {
     "data": {
      "image/png": "[encoded data removed]",
      "text/plain": [
       "<Figure size 800x600 with 2 Axes>"
      ]
     },
     "metadata": {},
     "output_type": "display_data"
    }
   ],
   "source": [
    "data = pd.read_csv('grid.txt', sep='\\\\s+', header=None, names=['g1', 'g', 'stable'])\n",
    "data['stable'] = data['stable'].map({True: 1, False: 0})\n",
    "\n",
    "# Swap 'g1' and 'g' to have 'gamma' values on the x-axis and 'g1' on the y-axis\n",
    "grid = data.pivot(index='g1', columns='g', values='stable')\n",
    "#print(grid.loc[0.01, 0.001])\n",
    "figure(figsize=(8, 6))\n",
    "custom_cmap = ListedColormap(['lightgray', (0.0, 1.0, 1.0)])\n",
    "\n",
    "# Ensure 'grid.columns' (gamma values) are on the x-axis and 'grid.index' (g1 values) are on the y-axis\n",
    "pcolormesh(grid.columns, grid.index, grid.values, cmap=custom_cmap, shading='auto')\n",
    "colorbar(ticks=[0, 1], label='Stability (0 = Unstable, 1 = Stable)')\n",
    "\n",
    "xlabel('$\\\\gamma_{eff}$')\n",
    "ylabel('$g_{1}$')\n",
    "axvline(x=0.001)\n",
    "axhline(y=0.01)\n",
    "title('Stability Grid: $g_{0}=5$, $omega=0.1$')\n",
    "xscale('log')\n",
    "yscale('log')\n",
    "\n",
    "savefig(\"sbra.png\", bbox_inches='tight')\n",
    "show()\n"
   ]
  },
  {
   "cell_type": "code",
   "execution_count": null,
   "id": "04c1936c-8c43-4f6b-9bcb-ef20d9064a7d",
   "metadata": {},
   "outputs": [],
   "source": []
  }
 ],
 "metadata": {
  "kernelspec": {
   "display_name": "Python 3 (ipykernel)",
   "language": "python",
   "name": "python3"
  },
  "language_info": {
   "codemirror_mode": {
    "name": "ipython",
    "version": 3
   },
   "file_extension": ".py",
   "mimetype": "text/x-python",
   "name": "python",
   "nbconvert_exporter": "python",
   "pygments_lexer": "ipython3",
   "version": "3.12.4"
  }
 },
 "nbformat": 4,
 "nbformat_minor": 5
}
