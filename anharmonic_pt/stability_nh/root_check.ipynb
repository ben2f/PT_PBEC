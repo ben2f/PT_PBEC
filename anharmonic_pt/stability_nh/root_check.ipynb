{
 "cells": [
  {
   "cell_type": "code",
   "execution_count": 76,
   "id": "4940bb47-702a-4451-9f53-0b9e6665f9a5",
   "metadata": {},
   "outputs": [],
   "source": [
    "from numpy import *\n",
    "from matplotlib import *\n",
    "from pylab import *\n",
    "import pandas as pd\n",
    "from matplotlib.colors import ListedColormap\n",
    "import sympy as sp"
   ]
  },
  {
   "cell_type": "code",
   "execution_count": 77,
   "id": "fdc9d503-56ca-4b8e-a36e-12bdf9519d26",
   "metadata": {},
   "outputs": [],
   "source": [
    "g=5\n",
    "v0=0.1\n",
    "g1=0.01\n",
    "gamma=0.00001"
   ]
  },
  {
   "cell_type": "code",
   "execution_count": null,
   "id": "04675d70-f6da-45fe-b388-9fefbe0b819c",
   "metadata": {},
   "outputs": [],
   "source": []
  },
  {
   "cell_type": "code",
   "execution_count": 78,
   "id": "5bfd79a2-5f23-4d74-b963-7fad1743946c",
   "metadata": {},
   "outputs": [
    {
     "name": "stdout",
     "output_type": "stream",
     "text": [
      "Roots: [-1.95423935975559, 1.95869372325679, -0.0022271817505995 - 1.07754562875251*I, -0.0022271817505995 + 1.07754562875251*I]\n"
     ]
    }
   ],
   "source": [
    "x = sp.symbols('x')\n",
    "polynomial = x**4-(24*x*x)/(90*v0)+(gamma*gamma*x*x)/(90*v0*v0)-(4*gamma*g*x)/(90*v0*v0*g1)-4/(90*v0*v0)\n",
    "all_roots = sp.solve(polynomial, x)\n",
    "print(\"Roots:\", all_roots)"
   ]
  },
  {
   "cell_type": "code",
   "execution_count": 80,
   "id": "f571c7cb-326e-4e3a-93c3-68a34cd09b3e",
   "metadata": {},
   "outputs": [],
   "source": [
    "real_roots = [rts.evalf() for rts in all_roots if rts.is_real]\n",
    "positive_real_roots = [rts for rts in real_roots if rts > 0]"
   ]
  },
  {
   "cell_type": "code",
   "execution_count": 86,
   "id": "e88c33c8-b6a8-4234-b918-7ac61ddb5a10",
   "metadata": {},
   "outputs": [
    {
     "name": "stdout",
     "output_type": "stream",
     "text": [
      "1.95869372325679\n"
     ]
    }
   ],
   "source": [
    "if positive_real_roots:\n",
    "            y = positive_real_roots[0]\n",
    "            if y > 0:\n",
    "                print(y)"
   ]
  },
  {
   "cell_type": "code",
   "execution_count": 62,
   "id": "19c7970c-7c6a-41bc-a565-dfd18984928c",
   "metadata": {},
   "outputs": [
    {
     "name": "stdout",
     "output_type": "stream",
     "text": [
      "[1, -2.6666666665555554, -22.22222222222222, -4.444444444444445]\n"
     ]
    }
   ],
   "source": [
    "#ac=90*v0*v0\n",
    "#bc=-24*v0+gamma*gamma\n",
    "#cc=-(4*gamma*g)/g1\n",
    "#dc=-4\n",
    "\n",
    "ac=1\n",
    "bc=-(24)/(90*v0)+(gamma*gamma)/(90*v0*v0)\n",
    "cc=-(4*gamma*g)/(90*v0*v0*g1)\n",
    "dc=-4/(90*v0*v0)\n",
    "\n",
    "coefficients=[ac, bc, cc,dc]\n",
    "print(coefficients)\n",
    "\n",
    "roots1 = roots(coefficients)\n",
    "real_roots = roots1[isreal(roots1)].real\n",
    "positive_real_roots = real_roots[real_roots > 0]\n",
    "y=positive_real_roots[0]"
   ]
  },
  {
   "cell_type": "code",
   "execution_count": 63,
   "id": "a99de9c3-ea5f-47f6-94e9-652bba3b5b1b",
   "metadata": {},
   "outputs": [
    {
     "name": "stdout",
     "output_type": "stream",
     "text": [
      "[ 6.30375058 -3.4316282  -0.20545572]\n"
     ]
    }
   ],
   "source": [
    "print(roots1)"
   ]
  },
  {
   "cell_type": "code",
   "execution_count": 52,
   "id": "435da09c-bc40-43bf-8cb9-144e1d08ae21",
   "metadata": {},
   "outputs": [],
   "source": [
    "x=3.17"
   ]
  },
  {
   "cell_type": "code",
   "execution_count": 53,
   "id": "29bb03dd-e581-4e25-8120-24cea2b718a9",
   "metadata": {},
   "outputs": [],
   "source": [
    "z=x**4-(24*x*x)/(90*v0)+(gamma*gamma*x*x)/(90*v0*v0)-(4*gamma*g*x)/(90*v0*v0*g1)-4/(90*v0*v0)"
   ]
  },
  {
   "cell_type": "code",
   "execution_count": 54,
   "id": "75b52fad-9552-4cbd-8e70-fe9bc573f557",
   "metadata": {},
   "outputs": [
    {
     "data": {
      "text/plain": [
       "-0.7055643444390132"
      ]
     },
     "execution_count": 54,
     "metadata": {},
     "output_type": "execute_result"
    }
   ],
   "source": [
    "z"
   ]
  },
  {
   "cell_type": "code",
   "execution_count": null,
   "id": "ee39c2e2-a2c0-4f58-89ba-7cf63a6a24ae",
   "metadata": {},
   "outputs": [],
   "source": []
  }
 ],
 "metadata": {
  "kernelspec": {
   "display_name": "Python 3 (ipykernel)",
   "language": "python",
   "name": "python3"
  },
  "language_info": {
   "codemirror_mode": {
    "name": "ipython",
    "version": 3
   },
   "file_extension": ".py",
   "mimetype": "text/x-python",
   "name": "python",
   "nbconvert_exporter": "python",
   "pygments_lexer": "ipython3",
   "version": "3.12.4"
  }
 },
 "nbformat": 4,
 "nbformat_minor": 5
}
