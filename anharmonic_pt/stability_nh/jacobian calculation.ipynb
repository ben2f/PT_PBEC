{
 "cells": [
  {
   "cell_type": "code",
   "execution_count": 4,
   "id": "061165ae-bd9c-4d34-b069-0ea9745fa3d1",
   "metadata": {},
   "outputs": [
    {
     "data": {
      "text/html": [
       "<style>\n",
       "\t\t\t\t\t\t\t\t\t\t\t\t\t.grid-container {\n",
       "\t\t\t\t\t\t\t\t\t\t\t\t\t\tdisplay: inline-grid;\n",
       "\t\t\t\t\t\t\t\t\t\t\t\t\t\tgrid-template-columns: auto;\n",
       "\t\t\t\t\t\t\t\t\t\t\t\t\t}\n",
       "\t\t\t\t\t\t\t\t\t\t\t\t</style>\n",
       "\n",
       "\t\t\t\t\t\t\t\t\t\t\t\t<div><div class=\"grid-container\"><div class=\"grid-item\"><img alt=\"Output\" src=\"data:image/png;base64,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\"></div><div class=\"grid-item\"><img alt=\"Output\" src=\"data:image/png;base64,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\"></div><div class=\"grid-item\"><img alt=\"Output\" src=\"data:image/png;base64,iVBORw0KGgoAAAANSUhEUgAAAccAAABLCAIAAACKm9vyAAAAz3pUWHRSYXcgcHJvZmlsZSB0eXBlIGV4aWYAAHjabY9rjsMgDIT/c4oewQ8Yw3FIQqW9wR6/dmC3oupI8XwMtiPS+P15pkdImFIuVtEAcuWWm3SHSlPTmdpdb522iPc85WMCd4/K+wJj5ceeG6ZL/VhEMkHjD86a18BapDJz7vN8rH7pte6LCm1qf8Dfz1lNUMCWvWYhMzTnmhzdUISK4YkT8EbGJZRP9wEzH4NFh/YYDMmwvXskqAdXPEHjK9rd+a6QIPlPWFUO5+gpGs95AZ7RWuhpdDCaAAAACXBIWXMAABYlAAAWJQFJUiTwAAAAPHRFWHRTb2Z0d2FyZQBDcmVhdGVkIHdpdGggdGhlIFdvbGZyYW0gTGFuZ3VhZ2UgOiB3d3cud29sZnJhbS5jb21coqaFAAAAIXRFWHRDcmVhdGlvbiBUaW1lADIwMjU6MDE6MDYgMTI6MDE6MTOsVUh4AAARWUlEQVR4nO2d32/T1hfAT776vo7WKk8IVSjZw6YhdWJZQaUVP6Tiqry0UjWn4oFIVJQUaTBgrZYyMcTGSNDUbdqadiqimhhpNCQQIhleJDopHdpYJpyJai9LYIjxlMit9gfk+3C+3Hn54TiOHdvp+Tw5jn1zHN977r3nnnuOq1gsAkEQBGEQ/7FaAIIgiJaCtCpBEISRkFYlCIIwEtKqBEG0CC4FKysrVpVPWpUgiFbA5XJFo9FisVgsFkOhUF9fn7GKVXv5LvIBIAii9XC5XIFAYHZ2tvnl/9eknySQQqFw48aN9fX1np6e3t5eq8UhCLMIh8N4MDIy4na7lV8tLS09ffq04l3lFxtILpczqWT18kmrmsjS0tLZs2ez2SwAhEIh0qpEqxIOh6empvC4p6enRFEuLi6KoljxxvKLDQHn5ubpa/XySauawsrKyocffiiKotfrtVoWgjCXTCbDVKoKPM/v37+/5OSWLVvMEMnv9wPAmTNnzCi8ZvmkVY2H9duBQODChQubN2+2WiKCMJGxsTEACIVC6rp1//79k5OTTZBnYGAgm81Go1GTxqo1yyetajydnZ0cx83Ozvp8PqtlsRGZTOann35aX18vOd/Z2Vntj1pZWbl//375BdXOE81nfn4+nU57vd7JyUktI9a6wBcNABXVcSKRePToUUk1GBgYEEUxFAppqRtoC1ax7c7Pz6+vrysv0FR+kTABSZLYMf7PoVDIQnmsJZ/P8zxfrQbyPF/txlAoVPGCaueJJpPNZjmOAwCs8PhCU6lUyWX49nU0gXg8jmUqGxQDf1pZbL0/5PF4KgrMKHkijeWTv6opdHV1WS2CjTh06JAoihzHRaPRVCo1NzeH7YHjuFQqhSqScCITExOyLIdCIZMq/ODgICq++fn5kq8SiYQsywAwMjLChBFFMRqNarczvPzyywDw7Nkz9ctwnVl7+aRVCXNJJBK4/ru8vOzz+Xp7e8fHx5eXlwEAWwX1QA5laWkJ12M1arF79+6Fw+FwODw/P5/JZDT+ytGjR/G3Ss7fuXMHAARBwLn5yspKJBIBgNHRUeUOqPIblbzxxhsAwLy+crlcOBxmvv14gCOAusonuyphLo8ePQIAnueV2rOrq8vr9abT6fv375PDmRMpFAoTExMAMDMzo/EWURSV/lUej+fzzz8fHBxUv2tkZGRqakqW5UQiwS4uFAqozoaGhvBMb29vsf4NTW1tbQDw5MkT/JhMJqempgRBUNbJ7u7uessnrUpYCVZrwnEcP35cluVgMKilU/T7/Uqfqnv37omimM1mDx48GI/H1RWr2+3meV4UxTt37rArk8mkLMscxzW4XLl9+3ZQOPMvLCwAQCwWu3jxotvtXl1dBV1Or2QBIMwFK64oisqNKJlMJp1OA8CuXbssk4zQSyKRiMViHo/n1KlTWq73+XyTCu7evZvNZtGV++233655OzqHRiKRQqGAZ27dugUAgUBA9yMgmzZtAgAsNpfLpdNpnO8nk0kAQH+Vbdu21VssjVUJcxkcHMSxhtfrnZ2d3bp16+rq6nvvvQdlZgHCKaAq9Hq9V65cKf/2+vXr6A6l4rHkdrtPnz49OjqKOw/V8fl8uCyWTCZ9Pl8ul4vFYgDw1ltvNfQYL5ahsINHTfrxxx8fO3ZsYWFhfHwcLQM4LKgL0qqEuRQKhQcPHgCALMujo6PsvCAIX375pXVyEfpBVRiLxVC7lYCrOlBrN+rWrVu1/6LP54tEIouLiz6fD9Wf1+s1pEvmOE6W5UKhgCuoIyMjly9fTqfTuVwOZ1c4nq0L0qqEubz//vvofMPzPO4CaGtr27Vrl/YmweZ97ONXX31lgqSEVqo5w7EthThrVt+NiuNZnHHXZHx8PBKJoB0JrZ+nT5+uU+rKdHd3i6L4888/x2IxQRA6OjoEQbh48WIymcSKp2c1VaO7LKEb/J837C4AdJxmgSnrgjmBZ7NZPJPP51loBdoFYDfwvag41TOi0Wi97QLfezAYBACO4/L5fGPC/h80zgqCwGqpJElYu/CHdJTpjLGqy+Vix6lUyua+OLlc7saNGyUn7927x45NjX5mN/BJR0dHFxcX3W43s/1rGbHu3LkTJ2herxdrfyQSwY9oCyMcAQsSCADr6+vff/89vr5AIKDdY39sbCydTqN5wefzdXR0GCIbVkg0ZfT39wNAV1eXx+NBJzB0q6obQ/S9qYBipINTDy2doYWkUin1/9zm8htLPp/H7TEVEQRBfdARjUZLJomhUAj/YRqr2o1q1bv8vXs8nnqnL/l83owWxOZDgiCwkzgiBoBAIKCjTAeMVYuKt4IRHK5fv27n4eqWLVvUd2GaFP3MniSTSdwtfu3aNXixKQBeOC3GYrEdO3aoDFh8Pl93d3cymUSDbH9/v9vtzuVyoVCos7OzSc9AaAOrfXn1VjaHeq3qjI6Ojmg0ivugDGz+r7zyCorX09PDTh45cgQ9qZUntWNZhhXdYYdcLhfP83fv3jVJMMJAcrkcC2BR3hLefPPNdDpNb5NoMQwYq2YyGbRBsKGElrvu378/NTXF83xdWtXsEN+EsTx//hwPXn311fJvMQ4A7sXeUORyuQcPHuCwq7Ozs7u7m6p0K9GQVsUY4CW5E4LB4EcffdSYVFUxO8Q3YSxbtmzB5aadO3cePXqUzadWV1cvX76MloEjR45YK2STwQCdJScxwLlRKzCEtejXqplMZt++fbIsezweQRDa2trQUnbx4kUAMEOxmh3imzAct9t9+/Ztv9+fzWbLQxrzPD87O7vR3qYoih6P58CBA7j6/O2337KlbfMSghJNRffamSRJHMcFAgHlGi7bmcscDKtRb+Bh3YFvCTsgSVI0Gg29IB6P16whrUr5+jVrNUb5YBLW0pBnVXn9YLt64/G4+r0lWjUej2N7qxj0m1Qq0cIwVzx1hyFsICq90dzcnPoFRHMw3l8V60dNDci0qiRJJf6MJT5i2JPr25xDEPaHaVX1sWq96UAIqzA4EiDbsq3Rz+uPP/7Yt29fNpvleR63igNAJBJhmzH0hfguIZfL1XV9a7Axn9qJXL9+HQB4nldfraorHQhhIQZrVQwnA1U8acpBi0E8Hr979y4GXsQNuZcuXcILMAR3OXX5Yz1//nxxcbGuB2kBNuZTO4JcLreysrKyspJIJDAak9fr/eabb9Tv0p4OhLAWI7VqoVA4e/YsAAQCAe0+IteuXVMGA0cXAlmWtWe2IQhncePGjb6+vr6+voMHD2L455mZmZpNpmI6kC+++EJ5jc5964ShGKlVDx06hB6IFy5c0HgLz/Ml+RWYn81ff/1loGwEYR96enqYO4TX681ms319fTWnX9XSgeAZ3elACMMxTKtiWleO45aXlxt0ZkbrKtswThAtRm9vL0s38ssvv6RSKY7jYrGYMrZTOSalAyEM559dAAMDAyrX+f1+lb50YmIC15Ru375tVM6MBvPEKR+nUChks1nlGfXHYbz00kuNyGAgz5490/KHGPLUu3fv/u233/TJ6VwmJibUY+IwGmkpFent7cXEHpcuXVIJNNN4OhBDJN++ffuff/5Z87INRSKR6OvrYx//0apoEq2GSpglplKj0agh64+4n++1115rpBDl46yuri4sLCjPaIwa9ffffzciQ/Mx5Kl//PFH4yVrIXS3FBWwtmNgBBUaTAdiiOQ0iazJP1pVn0JUqtQGs8gibE1ToxdBNUoep6OjYyN4nGzMp24yZvyl3333HQCwNAfVaDAdCFWG5tCQXRVVKsdxkiQZolILhcI777wDdXoREISjYU7ZNXMx4WLU119/DQBDQ0PwIs/ozZs3mZmVsBz90VWmp6exKhw4cEAUxfIwPFryiDx48GB6enr37t2bNm169uzZJ598kk6nvV6vdi8CgnAQGFaYfSxJN1JzaGJKOhDCaPRr1V9//RUPqiWwVc9b29nZiUYidFBlYEJjGqgSLQmGFS456fF43n333fHx8Zq3s8UonP6zY2xE5FZlE/TnAlhaWmLbPCqiZayayWR+//13Ct9LbBBKxqr1phthiSZ7enqYkbTiScJCLMuwQhAE0ZI4IBsgsXFYW1v77LPP6r3rxIkT7e3tZshDEDogrWovXC4XO66YQa+1+eGHHyRJOnz4cF13kUolbAVpVRvhcrmY2284HO7r69toijWTyRw+fBh9hgjCoZBd1b64XK5AILChchkNDw/PzMzQZnZCIyxygpa18aZBY1VbwwIUbQTW1tbW1tZIpRIaCYfDzE1N3Y+zyZBWrYNMJoPu1m1tbf39/aa+Rdy5a5+K0gQkSXr99detloJwBplMptzz1yaQVtUEvsKS/WPBYNCMBN2I3+8HgDNnzphUvnaa1pdIkrRnzx4LBSAcxNjYGACEQiE76tZmJslyKJijGwA8Hk8wGGT5tQAgGAya8YtYvuUJECVJYk/KMOmRi8Xi0NDQ48ePLRSAcApzc3MA4PV6i7bMgUhatTaoVQOBgDIFJsvhbniiYJuk6W5+X7J3715rBSAcASYcAQDMck9a1amUvzPMYwgA8Xhc/UZMpFHx23g8HgqFlGNSm6jUYtP7kocPH548edJCAQinUNJGSKu2FPg61TVgPB7Hy7BfLQG7XFYCqgzLJ/4M3X2JDmZmZm7evGmGAPV2bISdiUajbO6PkFZtHfL5vMbX6fF4ACAQCJScZwoXh12pVKqi4dtuDV5LX6KDcqOqUQLU1bERdiafz+P7UjY6G2pVI3OsbigwcRBoyFlw9OhRAFhaWio5f+fOHQAQBAEXtXt7eyu+IUPCgRsFBpwHgJ6eHsML1+KpqkOAwcFB7Njm5+dLvkokEpjUZGRkRLuchFUcP35cluVgMGjzDYekVfVQKBQwBZCWnAXYYmVZTiQSyhJQzzprd6b2vqQclsi+HEmSNO7l1yeAxo6NsDOJRCIWi3k8nlOnTlktSy2aPDZuDdBeznGcciGl5vVKIwCahziOM01G48nn89WsGeosLy/v3bsXAKrN8SsaVQ0UoKI1lk0n7WZjISqCr14QhNC/wTcbCATwox2WMUmr1g2uKWG2Lo23oA4FAKaFBUEAp3kI1duXICdPnty2bdvMzIzf7/f7/RWv0WhU1SeA8l6nd2wbGY3DRDsYWGlvVX2wnLK3b9/WHsLd5/NNTEzIspxMJn0+Xy6Xw5w0mMrNEUxMTIiiyHHc8vJyXflv9uzZc+7cufb29rW1NY7jzp07V9F+WtOoqlsAxO/3i6IYiUQuXLiAt9+6dQsAmKsWYXPYsLQE3FsVCASwCunLHG4wVqt1J8FaoI45I97L83zx3ztDHAF78AYHAidPniwfrj58+LDaGNZYAZTzfWYT0D7hIOyJITXTWEiraqURlVosFiVJwtuz2SymfXeKOa/BB1eCC+4lk/2ZmZmrV682QQBHd2xENUirOhUdttRyUJkGg0HQaxxsPgaqVKR8uKpuVDVQAOd2bIQKNtSqZFetzfT0NNpSDxw4IIpiSeQq0Bwxd2xsLJ1OY1E+n8/+2bnRiIymTO1GZHXOnTtXYl1VialqrABdXV1erzedTl+5ciWdTnMc19/f32CZhOWgvdUW5tQXUC6A2gwMDJRrUiUa86AUCoXNmzfXdYuFTE9PY5Z5QRB27NhRfoHu6Ovnz59/8uTJ1atXAUCSpPPnz9+8ebM5AszPzx87dozjOFmWN1qeBaJpkFatzdLS0tOnT1Uu0N68WVGTk5PGCGcaRvUl5aAzwOPHj7dt2/bpp5+2t7djMNkmCOCsjo1wKKRVicoY2JeUw4arKomqTBLAQR0b4VBIqxIWwIarw8PDDx8+tFocgjASigNAWEB7e/sHH3wwPDxMuf+I1oO0KmENJ06coPR/REtCWpWwBhyuHj582GpBCMJgyK5KWMba2prGAIAE4SBIqxIEQRjJ/wArHToSamZZHQAAAABJRU5ErkJggg==\"></div></div></div>"
      ],
      "text/plain": [
       "                            2\n",
       "                      5 g1 u\n",
       "-2 b u + 2 gamma u - ---------\n",
       "                     2 Sqrt[2]\n",
       "        g1 u v\n",
       "4 b v + -------\n",
       "        Sqrt[2]\n",
       "                                       2  2\n",
       "    2    1         g u             45 v  w\n",
       "-2 b  + ---- + ----------- - 3 w - --------\n",
       "           2   2 Sqrt[2] v            4\n",
       "        2 v"
      ]
     },
     "execution_count": 4,
     "metadata": {
      "text/html": [],
      "text/plain": []
     },
     "output_type": "execute_result"
    }
   ],
   "source": [
    "us=2*gamma*u-5*g1*u^2/(2*Sqrt[2])-2*u*b\n",
    "vs=g1*u*v/Sqrt[2]+4*b*v\n",
    "bs=-3*w-2*b^2+1/(2*v^2)+g*u/(2*Sqrt[2]*v)-(90*w^2*v^2)/(8)"
   ]
  },
  {
   "cell_type": "code",
   "execution_count": 7,
   "id": "c72b3c6e-5771-4d73-a515-32fd83423efe",
   "metadata": {},
   "outputs": [
    {
     "data": {
      "text/html": [
       "<style>\n",
       "\t\t\t\t\t\t\t\t\t\t\t\t\t.grid-container {\n",
       "\t\t\t\t\t\t\t\t\t\t\t\t\t\tdisplay: inline-grid;\n",
       "\t\t\t\t\t\t\t\t\t\t\t\t\t\tgrid-template-columns: auto;\n",
       "\t\t\t\t\t\t\t\t\t\t\t\t\t}\n",
       "\t\t\t\t\t\t\t\t\t\t\t\t</style>\n",
       "\n",
       "\t\t\t\t\t\t\t\t\t\t\t\t<div><div class=\"grid-container\"><div class=\"grid-item\"><pre style=\"&#102;&#111;&#110;&#116;&#45;&#102;&#97;&#109;&#105;&#108;&#121;&#58;&#32;&#34;&#67;&#111;&#117;&#114;&#105;&#101;&#114;&#32;&#78;&#101;&#119;&#34;&#44;&#67;&#111;&#117;&#114;&#105;&#101;&#114;&#44;&#109;&#111;&#110;&#111;&#115;&#112;&#97;&#99;&#101;&#59;\">&#45;&#50;&#42;&#98;&#32;&#43;&#32;&#50;&#42;&#103;&#97;&#109;&#109;&#97;&#32;&#45;&#32;&#40;&#53;&#42;&#103;&#49;&#42;&#117;&#41;&#47;&#83;&#113;&#114;&#116;&#91;&#50;&#93;</pre></div><div class=\"grid-item\"><pre style=\"&#102;&#111;&#110;&#116;&#45;&#102;&#97;&#109;&#105;&#108;&#121;&#58;&#32;&#34;&#67;&#111;&#117;&#114;&#105;&#101;&#114;&#32;&#78;&#101;&#119;&#34;&#44;&#67;&#111;&#117;&#114;&#105;&#101;&#114;&#44;&#109;&#111;&#110;&#111;&#115;&#112;&#97;&#99;&#101;&#59;\">&#48;</pre></div><div class=\"grid-item\"><pre style=\"&#102;&#111;&#110;&#116;&#45;&#102;&#97;&#109;&#105;&#108;&#121;&#58;&#32;&#34;&#67;&#111;&#117;&#114;&#105;&#101;&#114;&#32;&#78;&#101;&#119;&#34;&#44;&#67;&#111;&#117;&#114;&#105;&#101;&#114;&#44;&#109;&#111;&#110;&#111;&#115;&#112;&#97;&#99;&#101;&#59;\">&#45;&#50;&#42;&#117;</pre></div></div></div>"
      ],
      "text/plain": [
       "-2*b + 2*gamma - (5*g1*u)/Sqrt[2]\n",
       "0\n",
       "-2*u"
      ]
     },
     "execution_count": 7,
     "metadata": {
      "text/html": [],
      "text/plain": []
     },
     "output_type": "execute_result"
    }
   ],
   "source": [
    "InputForm[D[us, u]]\n",
    "InputForm[D[us, v]]\n",
    "InputForm[D[us, b]]"
   ]
  },
  {
   "cell_type": "code",
   "execution_count": 10,
   "id": "1e235819-e79b-4eed-b3ef-64e2fe809597",
   "metadata": {},
   "outputs": [
    {
     "data": {
      "text/html": [
       "<style>\n",
       "\t\t\t\t\t\t\t\t\t\t\t\t\t.grid-container {\n",
       "\t\t\t\t\t\t\t\t\t\t\t\t\t\tdisplay: inline-grid;\n",
       "\t\t\t\t\t\t\t\t\t\t\t\t\t\tgrid-template-columns: auto;\n",
       "\t\t\t\t\t\t\t\t\t\t\t\t\t}\n",
       "\t\t\t\t\t\t\t\t\t\t\t\t</style>\n",
       "\n",
       "\t\t\t\t\t\t\t\t\t\t\t\t<div><div class=\"grid-container\"><div class=\"grid-item\"><pre style=\"&#102;&#111;&#110;&#116;&#45;&#102;&#97;&#109;&#105;&#108;&#121;&#58;&#32;&#34;&#67;&#111;&#117;&#114;&#105;&#101;&#114;&#32;&#78;&#101;&#119;&#34;&#44;&#67;&#111;&#117;&#114;&#105;&#101;&#114;&#44;&#109;&#111;&#110;&#111;&#115;&#112;&#97;&#99;&#101;&#59;\">&#40;&#103;&#49;&#42;&#118;&#41;&#47;&#83;&#113;&#114;&#116;&#91;&#50;&#93;</pre></div><div class=\"grid-item\"><pre style=\"&#102;&#111;&#110;&#116;&#45;&#102;&#97;&#109;&#105;&#108;&#121;&#58;&#32;&#34;&#67;&#111;&#117;&#114;&#105;&#101;&#114;&#32;&#78;&#101;&#119;&#34;&#44;&#67;&#111;&#117;&#114;&#105;&#101;&#114;&#44;&#109;&#111;&#110;&#111;&#115;&#112;&#97;&#99;&#101;&#59;\">&#52;&#42;&#98;&#32;&#43;&#32;&#40;&#103;&#49;&#42;&#117;&#41;&#47;&#83;&#113;&#114;&#116;&#91;&#50;&#93;</pre></div><div class=\"grid-item\"><pre style=\"&#102;&#111;&#110;&#116;&#45;&#102;&#97;&#109;&#105;&#108;&#121;&#58;&#32;&#34;&#67;&#111;&#117;&#114;&#105;&#101;&#114;&#32;&#78;&#101;&#119;&#34;&#44;&#67;&#111;&#117;&#114;&#105;&#101;&#114;&#44;&#109;&#111;&#110;&#111;&#115;&#112;&#97;&#99;&#101;&#59;\">&#52;&#42;&#118;</pre></div></div></div>"
      ],
      "text/plain": [
       "(g1*v)/Sqrt[2]\n",
       "4*b + (g1*u)/Sqrt[2]\n",
       "4*v"
      ]
     },
     "execution_count": 10,
     "metadata": {
      "text/html": [],
      "text/plain": []
     },
     "output_type": "execute_result"
    }
   ],
   "source": [
    "InputForm[D[vs, u]]\n",
    "InputForm[D[vs, v]]\n",
    "InputForm[D[vs, b]]"
   ]
  },
  {
   "cell_type": "code",
   "execution_count": 16,
   "id": "68f21086-841f-4041-9f54-f551208ba0c1",
   "metadata": {},
   "outputs": [
    {
     "data": {
      "text/html": [
       "<style>\n",
       "\t\t\t\t\t\t\t\t\t\t\t\t\t.grid-container {\n",
       "\t\t\t\t\t\t\t\t\t\t\t\t\t\tdisplay: inline-grid;\n",
       "\t\t\t\t\t\t\t\t\t\t\t\t\t\tgrid-template-columns: auto;\n",
       "\t\t\t\t\t\t\t\t\t\t\t\t\t}\n",
       "\t\t\t\t\t\t\t\t\t\t\t\t</style>\n",
       "\n",
       "\t\t\t\t\t\t\t\t\t\t\t\t<div><div class=\"grid-container\"><div class=\"grid-item\"><pre style=\"&#102;&#111;&#110;&#116;&#45;&#102;&#97;&#109;&#105;&#108;&#121;&#58;&#32;&#34;&#67;&#111;&#117;&#114;&#105;&#101;&#114;&#32;&#78;&#101;&#119;&#34;&#44;&#67;&#111;&#117;&#114;&#105;&#101;&#114;&#44;&#109;&#111;&#110;&#111;&#115;&#112;&#97;&#99;&#101;&#59;\">&#103;&#47;&#40;&#50;&#42;&#83;&#113;&#114;&#116;&#91;&#50;&#93;&#42;&#118;&#41;</pre></div><div class=\"grid-item\"><pre style=\"&#102;&#111;&#110;&#116;&#45;&#102;&#97;&#109;&#105;&#108;&#121;&#58;&#32;&#34;&#67;&#111;&#117;&#114;&#105;&#101;&#114;&#32;&#78;&#101;&#119;&#34;&#44;&#67;&#111;&#117;&#114;&#105;&#101;&#114;&#44;&#109;&#111;&#110;&#111;&#115;&#112;&#97;&#99;&#101;&#59;\">&#45;&#118;&#94;&#40;&#45;&#51;&#41;&#32;&#45;&#32;&#40;&#103;&#42;&#117;&#41;&#47;&#40;&#50;&#42;&#83;&#113;&#114;&#116;&#91;&#50;&#93;&#42;&#118;&#94;&#50;&#41;&#32;&#45;&#32;&#40;&#52;&#53;&#42;&#118;&#42;&#119;&#94;&#50;&#41;&#47;&#50;</pre></div><div class=\"grid-item\"><pre style=\"&#102;&#111;&#110;&#116;&#45;&#102;&#97;&#109;&#105;&#108;&#121;&#58;&#32;&#34;&#67;&#111;&#117;&#114;&#105;&#101;&#114;&#32;&#78;&#101;&#119;&#34;&#44;&#67;&#111;&#117;&#114;&#105;&#101;&#114;&#44;&#109;&#111;&#110;&#111;&#115;&#112;&#97;&#99;&#101;&#59;\">&#45;&#52;&#42;&#98;</pre></div></div></div>"
      ],
      "text/plain": [
       "g/(2*Sqrt[2]*v)\n",
       "-v^(-3) - (g*u)/(2*Sqrt[2]*v^2) - (45*v*w^2)/2\n",
       "-4*b"
      ]
     },
     "execution_count": 16,
     "metadata": {
      "text/html": [],
      "text/plain": []
     },
     "output_type": "execute_result"
    }
   ],
   "source": [
    "InputForm[D[bs, u]]\n",
    "InputForm[D[bs, v]]\n",
    "InputForm[D[bs, b]]"
   ]
  },
  {
   "cell_type": "code",
   "execution_count": null,
   "id": "6e7c491f-27d8-4ee8-9370-7d4d0cfcf8a6",
   "metadata": {},
   "outputs": [],
   "source": []
  },
  {
   "cell_type": "code",
   "execution_count": null,
   "id": "b19f9e1c-8ed2-48c3-9c78-41473db2923f",
   "metadata": {},
   "outputs": [],
   "source": []
  }
 ],
 "metadata": {
  "kernelspec": {
   "display_name": "Wolfram Language 12.3",
   "language": "Wolfram Language",
   "name": "wolframlanguage12.3"
  },
  "language_info": {
   "codemirror_mode": "mathematica",
   "file_extension": ".m",
   "mimetype": "application/vnd.wolfram.m",
   "name": "Wolfram Language",
   "pygments_lexer": "mathematica",
   "version": "12.0"
  }
 },
 "nbformat": 4,
 "nbformat_minor": 5
}
