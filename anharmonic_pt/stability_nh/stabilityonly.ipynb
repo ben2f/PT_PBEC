{
 "cells": [
  {
   "cell_type": "code",
   "execution_count": 2,
   "id": "12de3654-e267-4f47-87a0-830518a1100f",
   "metadata": {},
   "outputs": [],
   "source": [
    "from numpy import *\n",
    "from matplotlib import *\n",
    "from pylab import *\n",
    "import pandas as pd\n",
    "from matplotlib.colors import ListedColormap"
   ]
  },
  {
   "cell_type": "code",
   "execution_count": 3,
   "id": "14bdcd1a-31d7-43cb-99d2-e8d604ca28ee",
   "metadata": {},
   "outputs": [],
   "source": [
    "g=5.0\n",
    "v0=0.1"
   ]
  },
  {
   "cell_type": "code",
   "execution_count": 19,
   "id": "48ac5607-81f7-4a3b-8a62-7914cafd5c09",
   "metadata": {},
   "outputs": [],
   "source": [
    "def jacobian(x,y,b,v0,g,g1,gamma):\n",
    "    \n",
    "    J11=2*(gamma-b)-(5*g1*x)/sqrt(2)\n",
    "    J12=0\n",
    "    J13=-2*x\n",
    "    \n",
    "    J21=g1*y/sqrt(2)\n",
    "    J22=4*b+g1*x/sqrt(2)\n",
    "    J23=4*y\n",
    "\n",
    "    J31=g/(y*2*sqrt(2))\n",
    "    J32=-1/(y*y*y)-(g*x)/(2*sqrt(2)*y*y)-(45*y*v0*v0)/2.0\n",
    "    #J32=-1/(y*y*y)-(g*x)/(2*sqrt(2)*y*y)\n",
    "    J33=-4*b\n",
    "    \n",
    "    J = array([\n",
    "        [J11,J12,J13], \n",
    "        [J21,J22,J23],  \n",
    "        [J31,J32,J33]  \n",
    "            ])\n",
    "    return J"
   ]
  },
  {
   "cell_type": "code",
   "execution_count": 20,
   "id": "125dc640-7ee2-47df-b7a3-e84dbbca2647",
   "metadata": {},
   "outputs": [],
   "source": [
    " def is_stable(x,y,b,v0,g,g1, gamma):\n",
    "    J = jacobian(x,y,b,v0,g,g1, gamma)\n",
    "    eigenvalues = linalg.eigvals(J)\n",
    "    return all(real(eigenvalues) < 0)"
   ]
  },
  {
   "cell_type": "code",
   "execution_count": 28,
   "id": "200da40b-10c4-4c59-910f-d443fd6d3df3",
   "metadata": {},
   "outputs": [
    {
     "data": {
      "text/plain": [
       "np.True_"
      ]
     },
     "execution_count": 28,
     "metadata": {},
     "output_type": "execute_result"
    }
   ],
   "source": [
    "is_stable(1.4142,3.17795,-2.5*(10**(-6)),v0,g,0.00001, 0.00001)"
   ]
  },
  {
   "cell_type": "code",
   "execution_count": 22,
   "id": "880b59c9-58d2-45e1-b345-c9371e3fdd03",
   "metadata": {},
   "outputs": [
    {
     "data": {
      "text/plain": [
       "array([-1.38491718e-05+0.j        , -5.75222308e-07+2.26186717j,\n",
       "       -5.75222308e-07-2.26186717j])"
      ]
     },
     "execution_count": 22,
     "metadata": {},
     "output_type": "execute_result"
    }
   ],
   "source": []
  },
  {
   "cell_type": "code",
   "execution_count": 23,
   "id": "5240f0bf-580a-4fb4-a301-80747842f1aa",
   "metadata": {},
   "outputs": [
    {
     "data": {
      "text/html": [
       "<div>\n",
       "<style scoped>\n",
       "    .dataframe tbody tr th:only-of-type {\n",
       "        vertical-align: middle;\n",
       "    }\n",
       "\n",
       "    .dataframe tbody tr th {\n",
       "        vertical-align: top;\n",
       "    }\n",
       "\n",
       "    .dataframe thead th {\n",
       "        text-align: right;\n",
       "    }\n",
       "</style>\n",
       "<table border=\"1\" class=\"dataframe\">\n",
       "  <thead>\n",
       "    <tr style=\"text-align: right;\">\n",
       "      <th></th>\n",
       "      <th>0</th>\n",
       "      <th>1</th>\n",
       "      <th>2</th>\n",
       "      <th>3</th>\n",
       "      <th>4</th>\n",
       "    </tr>\n",
       "  </thead>\n",
       "  <tbody>\n",
       "    <tr>\n",
       "      <th>0</th>\n",
       "      <td>0.00001</td>\n",
       "      <td>0.000010</td>\n",
       "      <td>1.414214</td>\n",
       "      <td>3.177950</td>\n",
       "      <td>-0.000003</td>\n",
       "    </tr>\n",
       "    <tr>\n",
       "      <th>1</th>\n",
       "      <td>0.00001</td>\n",
       "      <td>0.000011</td>\n",
       "      <td>1.588620</td>\n",
       "      <td>3.272550</td>\n",
       "      <td>-0.000003</td>\n",
       "    </tr>\n",
       "    <tr>\n",
       "      <th>2</th>\n",
       "      <td>0.00001</td>\n",
       "      <td>0.000013</td>\n",
       "      <td>1.784535</td>\n",
       "      <td>3.372326</td>\n",
       "      <td>-0.000003</td>\n",
       "    </tr>\n",
       "    <tr>\n",
       "      <th>3</th>\n",
       "      <td>0.00001</td>\n",
       "      <td>0.000014</td>\n",
       "      <td>2.004611</td>\n",
       "      <td>3.477423</td>\n",
       "      <td>-0.000004</td>\n",
       "    </tr>\n",
       "    <tr>\n",
       "      <th>4</th>\n",
       "      <td>0.00001</td>\n",
       "      <td>0.000016</td>\n",
       "      <td>2.251828</td>\n",
       "      <td>3.587994</td>\n",
       "      <td>-0.000004</td>\n",
       "    </tr>\n",
       "  </tbody>\n",
       "</table>\n",
       "</div>"
      ],
      "text/plain": [
       "         0         1         2         3         4\n",
       "0  0.00001  0.000010  1.414214  3.177950 -0.000003\n",
       "1  0.00001  0.000011  1.588620  3.272550 -0.000003\n",
       "2  0.00001  0.000013  1.784535  3.372326 -0.000003\n",
       "3  0.00001  0.000014  2.004611  3.477423 -0.000004\n",
       "4  0.00001  0.000016  2.251828  3.587994 -0.000004"
      ]
     },
     "execution_count": 23,
     "metadata": {},
     "output_type": "execute_result"
    }
   ],
   "source": [
    "df1 = pd.read_csv(\"fixed_points.txt\" , sep='\\\\s+', header=None)\n",
    "df1.head()"
   ]
  },
  {
   "cell_type": "code",
   "execution_count": 24,
   "id": "58e72bc8-e40e-48a6-9fe9-12f84f9ace86",
   "metadata": {},
   "outputs": [],
   "source": [
    "g1p=df1[0].to_numpy()\n",
    "gammap=df1[1].to_numpy()\n",
    "xp=df1[2].to_numpy()\n",
    "yp=df1[3].to_numpy()\n",
    "bp=df1[4].to_numpy()"
   ]
  },
  {
   "cell_type": "code",
   "execution_count": 25,
   "id": "23fa84dd-dd25-45a2-a9d5-69b635026d58",
   "metadata": {},
   "outputs": [
    {
     "data": {
      "text/plain": [
       "np.float64(-3.980706983352735e-06)"
      ]
     },
     "execution_count": 25,
     "metadata": {},
     "output_type": "execute_result"
    }
   ],
   "source": [
    "e=len(g1p)"
   ]
  },
  {
   "cell_type": "code",
   "execution_count": 26,
   "id": "2312bdd7-6e64-4172-8d65-a9092c5e4e88",
   "metadata": {},
   "outputs": [],
   "source": [
    "f2 = open('grid.txt', 'w')\n",
    "for i in range(0,e):\n",
    "    s=is_stable(xp[i],yp[i],bp[i],v0,g,g1p[i],gammap[i])\n",
    "    f2.write(f\"{g1p[i]}  {gammap[i]}   {s} \\n\")\n",
    "    #f2.write(f\"{g[i]}  {g1[i]}   {s} \\n\")\n",
    "f2.close() "
   ]
  },
  {
   "cell_type": "code",
   "execution_count": null,
   "id": "c066e5ec-cb01-4055-aa9b-5f506be85aab",
   "metadata": {},
   "outputs": [],
   "source": []
  },
  {
   "cell_type": "code",
   "execution_count": 27,
   "id": "99ab1e8c-51d8-445f-8a3a-d16cc825bbbc",
   "metadata": {},
   "outputs": [
    {
     "data": {
      "image/png": "[encoded data removed]",
      "text/plain": [
       "<Figure size 800x600 with 2 Axes>"
      ]
     },
     "metadata": {},
     "output_type": "display_data"
    }
   ],
   "source": [
    "data = pd.read_csv('grid.txt', sep='\\\\s+', header=None, names=['g1', 'g', 'stable'])\n",
    "data['stable'] = data['stable'].map({True: 1, False: 0})\n",
    "\n",
    "# Swap 'g1' and 'g' to have 'gamma' values on the x-axis and 'g1' on the y-axis\n",
    "grid = data.pivot(index='g1', columns='g', values='stable')\n",
    "#print(grid.loc[0.01, 0.001])\n",
    "figure(figsize=(8, 6))\n",
    "custom_cmap = ListedColormap(['lightgray', (0.0, 1.0, 1.0)])\n",
    "\n",
    "# Ensure 'grid.columns' (gamma values) are on the x-axis and 'grid.index' (g1 values) are on the y-axis\n",
    "pcolormesh(grid.columns, grid.index, grid.values, cmap=custom_cmap, shading='auto')\n",
    "colorbar(ticks=[0, 1], label='Stability (0 = Unstable, 1 = Stable)')\n",
    "\n",
    "xlabel('$\\\\gamma_{eff}$')\n",
    "ylabel('$g_{1}$')\n",
    "axvline(x=0.001)\n",
    "axhline(y=0.01)\n",
    "title('Stability Grid: $g_{0}=5$, $omega=0.1$')\n",
    "xscale('log')\n",
    "yscale('log')\n",
    "\n",
    "savefig(\"sbra.png\", bbox_inches='tight')\n",
    "show()"
   ]
  },
  {
   "cell_type": "code",
   "execution_count": null,
   "id": "ba6d78cd-cf61-4750-954c-664ae7fe9a3d",
   "metadata": {},
   "outputs": [],
   "source": []
  }
 ],
 "metadata": {
  "kernelspec": {
   "display_name": "Python 3 (ipykernel)",
   "language": "python",
   "name": "python3"
  },
  "language_info": {
   "codemirror_mode": {
    "name": "ipython",
    "version": 3
   },
   "file_extension": ".py",
   "mimetype": "text/x-python",
   "name": "python",
   "nbconvert_exporter": "python",
   "pygments_lexer": "ipython3",
   "version": "3.12.4"
  }
 },
 "nbformat": 4,
 "nbformat_minor": 5
}
